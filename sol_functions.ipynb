{
 "cells": [
  {
   "cell_type": "markdown",
   "metadata": {},
   "source": [
    "# Functions"
   ]
  },
  {
   "cell_type": "markdown",
   "metadata": {},
   "source": [
    "On this lab we will put to practice some of the concepts we have learned on this past few days.\n",
    "\n",
    "`NOTE: On this lab you should try to write all the functions yourself using only the most basic of python syntax and without functions such as len, count, sum, max, min, in, etc. Give it a try. 🧑🏻‍💻👩🏻‍💻`\n",
    "\n",
    "The cell after each exercise contains a few tests to check if your function works as expected."
   ]
  },
  {
   "cell_type": "code",
   "execution_count": 1,
   "metadata": {},
   "outputs": [],
   "source": [
    "from mod.testing import *\n",
    "import unittest"
   ]
  },
  {
   "cell_type": "markdown",
   "metadata": {},
   "source": [
    "## 1. Write a function that returns the greater of two numbers"
   ]
  },
  {
   "cell_type": "code",
   "execution_count": 13,
   "metadata": {},
   "outputs": [],
   "source": [
    "def greater(a,b):\n",
    "    if a > b:\n",
    "        return a\n",
    "    else:\n",
    "        return b"
   ]
  },
  {
   "cell_type": "code",
   "execution_count": 14,
   "metadata": {},
   "outputs": [
    {
     "data": {
      "text/plain": [
       "17"
      ]
     },
     "execution_count": 14,
     "metadata": {},
     "output_type": "execute_result"
    }
   ],
   "source": [
    "greater(17, 11)"
   ]
  },
  {
   "cell_type": "code",
   "execution_count": 15,
   "metadata": {},
   "outputs": [
    {
     "name": "stderr",
     "output_type": "stream",
     "text": [
      "....................................................................................................\n",
      "----------------------------------------------------------------------\n",
      "Ran 100 tests in 0.252s\n",
      "\n",
      "OK\n"
     ]
    }
   ],
   "source": [
    "# This will test your function \n",
    "test_greater(greater)"
   ]
  },
  {
   "cell_type": "markdown",
   "metadata": {},
   "source": [
    "## 2. Now write a function that returns the largest element on a list"
   ]
  },
  {
   "cell_type": "code",
   "execution_count": null,
   "metadata": {},
   "outputs": [],
   "source": [
    "def greatest(arr):\n",
    "    return max(arr)"
   ]
  },
  {
   "cell_type": "code",
   "execution_count": 26,
   "metadata": {},
   "outputs": [],
   "source": [
    "def greatest(arr):\n",
    "    # the temporary biggest number\n",
    "    temp = -float(\"inf\")\n",
    "    for elem in arr:\n",
    "        if elem > temp:\n",
    "            temp = elem\n",
    "            \n",
    "    return temp"
   ]
  },
  {
   "cell_type": "code",
   "execution_count": 28,
   "metadata": {},
   "outputs": [
    {
     "data": {
      "text/plain": [
       "-2"
      ]
     },
     "execution_count": 28,
     "metadata": {},
     "output_type": "execute_result"
    }
   ],
   "source": [
    "greatest([-3, -5, -100, -2])"
   ]
  },
  {
   "cell_type": "code",
   "execution_count": 29,
   "metadata": {},
   "outputs": [
    {
     "name": "stderr",
     "output_type": "stream",
     "text": [
      "....................................................................................................\n",
      "----------------------------------------------------------------------\n",
      "Ran 100 tests in 0.236s\n",
      "\n",
      "OK\n"
     ]
    }
   ],
   "source": [
    "# This will test your function \n",
    "test_greatest(greatest)"
   ]
  },
  {
   "cell_type": "markdown",
   "metadata": {},
   "source": [
    "## 3. Write a function that sums all the elements on a list"
   ]
  },
  {
   "cell_type": "code",
   "execution_count": 36,
   "metadata": {},
   "outputs": [],
   "source": [
    "def sum_all(arr):\n",
    "    sum_ = 0\n",
    "    for elem in arr:\n",
    "        sum_ += elem\n",
    "        \n",
    "    return sum_"
   ]
  },
  {
   "cell_type": "code",
   "execution_count": 34,
   "metadata": {},
   "outputs": [
    {
     "name": "stderr",
     "output_type": "stream",
     "text": [
      "....................................................................................................\n",
      "----------------------------------------------------------------------\n",
      "Ran 100 tests in 0.240s\n",
      "\n",
      "OK\n"
     ]
    }
   ],
   "source": [
    "# This will test your function \n",
    "test_sum(sum_all)"
   ]
  },
  {
   "cell_type": "markdown",
   "metadata": {},
   "source": [
    "## 4. Write another function that multiplies all the elements on a list"
   ]
  },
  {
   "cell_type": "code",
   "execution_count": 37,
   "metadata": {},
   "outputs": [],
   "source": [
    "def mult_all(arr):\n",
    "    prod = 1\n",
    "    \n",
    "    for x in arr:\n",
    "        prod *= x\n",
    "        \n",
    "    return prod"
   ]
  },
  {
   "cell_type": "code",
   "execution_count": 39,
   "metadata": {},
   "outputs": [
    {
     "name": "stderr",
     "output_type": "stream",
     "text": [
      "....................................................................................................\n",
      "----------------------------------------------------------------------\n",
      "Ran 100 tests in 0.324s\n",
      "\n",
      "OK\n"
     ]
    }
   ],
   "source": [
    "# This will test your function \n",
    "test_mult(mult_all)"
   ]
  },
  {
   "cell_type": "markdown",
   "metadata": {},
   "source": [
    "## 5. Now combine those two ideas and write a function that receives a list and either \"+\" or \"*\" and outputs acordingly"
   ]
  },
  {
   "cell_type": "code",
   "execution_count": 49,
   "metadata": {},
   "outputs": [],
   "source": [
    "def oper_all(arr, oper):\n",
    "    if oper == \"+\":\n",
    "        return sum_all(arr)\n",
    "    elif oper == \"*\":\n",
    "        return mult_all(arr)\n",
    "    else:\n",
    "        raise Exception(\"Give a valid operator\")"
   ]
  },
  {
   "cell_type": "code",
   "execution_count": 52,
   "metadata": {},
   "outputs": [
    {
     "data": {
      "text/plain": [
       "15"
      ]
     },
     "execution_count": 52,
     "metadata": {},
     "output_type": "execute_result"
    }
   ],
   "source": [
    "oper_all([4, 5, 6], \"+\")"
   ]
  },
  {
   "cell_type": "code",
   "execution_count": 53,
   "metadata": {},
   "outputs": [
    {
     "data": {
      "text/plain": [
       "120"
      ]
     },
     "execution_count": 53,
     "metadata": {},
     "output_type": "execute_result"
    }
   ],
   "source": [
    "oper_all([4, 5, 6], \"*\")"
   ]
  },
  {
   "cell_type": "code",
   "execution_count": 54,
   "metadata": {},
   "outputs": [
    {
     "ename": "Exception",
     "evalue": "Give a valid operator",
     "output_type": "error",
     "traceback": [
      "\u001b[0;31m---------------------------------------------------------------------------\u001b[0m",
      "\u001b[0;31mException\u001b[0m                                 Traceback (most recent call last)",
      "\u001b[0;32m<ipython-input-54-a1a7d0bf520a>\u001b[0m in \u001b[0;36m<module>\u001b[0;34m\u001b[0m\n\u001b[0;32m----> 1\u001b[0;31m \u001b[0moper_all\u001b[0m\u001b[0;34m(\u001b[0m\u001b[0;34m[\u001b[0m\u001b[0;36m4\u001b[0m\u001b[0;34m,\u001b[0m \u001b[0;36m5\u001b[0m\u001b[0;34m,\u001b[0m \u001b[0;36m6\u001b[0m\u001b[0;34m]\u001b[0m\u001b[0;34m,\u001b[0m \u001b[0;34m\"-\"\u001b[0m\u001b[0;34m)\u001b[0m\u001b[0;34m\u001b[0m\u001b[0;34m\u001b[0m\u001b[0m\n\u001b[0m",
      "\u001b[0;32m<ipython-input-49-e69b7c700052>\u001b[0m in \u001b[0;36moper_all\u001b[0;34m(arr, oper)\u001b[0m\n\u001b[1;32m      5\u001b[0m         \u001b[0;32mreturn\u001b[0m \u001b[0mmult_all\u001b[0m\u001b[0;34m(\u001b[0m\u001b[0marr\u001b[0m\u001b[0;34m)\u001b[0m\u001b[0;34m\u001b[0m\u001b[0;34m\u001b[0m\u001b[0m\n\u001b[1;32m      6\u001b[0m     \u001b[0;32melse\u001b[0m\u001b[0;34m:\u001b[0m\u001b[0;34m\u001b[0m\u001b[0;34m\u001b[0m\u001b[0m\n\u001b[0;32m----> 7\u001b[0;31m         \u001b[0;32mraise\u001b[0m \u001b[0mException\u001b[0m\u001b[0;34m(\u001b[0m\u001b[0;34m\"Give a valid operator\"\u001b[0m\u001b[0;34m)\u001b[0m\u001b[0;34m\u001b[0m\u001b[0;34m\u001b[0m\u001b[0m\n\u001b[0m",
      "\u001b[0;31mException\u001b[0m: Give a valid operator"
     ]
    }
   ],
   "source": [
    "oper_all([4, 5, 6], \"-\")"
   ]
  },
  {
   "cell_type": "code",
   "execution_count": 55,
   "metadata": {},
   "outputs": [
    {
     "name": "stderr",
     "output_type": "stream",
     "text": [
      "....................................................................................................\n",
      "----------------------------------------------------------------------\n",
      "Ran 100 tests in 0.178s\n",
      "\n",
      "OK\n"
     ]
    }
   ],
   "source": [
    "# This will test your function \n",
    "test_operations(oper_all)"
   ]
  },
  {
   "cell_type": "markdown",
   "metadata": {},
   "source": [
    "## 6. Write a function that returns the factorial of a number."
   ]
  },
  {
   "cell_type": "code",
   "execution_count": 60,
   "metadata": {},
   "outputs": [],
   "source": [
    "def factorial(n):\n",
    "    if n == 0:\n",
    "        return 1\n",
    "    else:\n",
    "        return n * factorial(n - 1)"
   ]
  },
  {
   "cell_type": "code",
   "execution_count": 65,
   "metadata": {},
   "outputs": [],
   "source": [
    "# equiv\n",
    "def factorial(n):\n",
    "    fact = 1\n",
    "    \n",
    "    for i in range(1, n + 1):\n",
    "        fact *= i\n",
    "        \n",
    "    return fact"
   ]
  },
  {
   "cell_type": "code",
   "execution_count": 66,
   "metadata": {},
   "outputs": [
    {
     "data": {
      "text/plain": [
       "1"
      ]
     },
     "execution_count": 66,
     "metadata": {},
     "output_type": "execute_result"
    }
   ],
   "source": [
    "factorial(0)"
   ]
  },
  {
   "cell_type": "code",
   "execution_count": 67,
   "metadata": {},
   "outputs": [
    {
     "data": {
      "text/plain": [
       "24"
      ]
     },
     "execution_count": 67,
     "metadata": {},
     "output_type": "execute_result"
    }
   ],
   "source": [
    "factorial(4)"
   ]
  },
  {
   "cell_type": "code",
   "execution_count": 64,
   "metadata": {},
   "outputs": [
    {
     "data": {
      "text/plain": [
       "3628800"
      ]
     },
     "execution_count": 64,
     "metadata": {},
     "output_type": "execute_result"
    }
   ],
   "source": [
    "factorial(10)"
   ]
  },
  {
   "cell_type": "markdown",
   "metadata": {},
   "source": [
    "$x$  \n",
    "$x^2$  \n",
    "$x^8$  \n",
    "$e^x$  \n",
    "$n!$"
   ]
  },
  {
   "cell_type": "code",
   "execution_count": 68,
   "metadata": {},
   "outputs": [
    {
     "name": "stderr",
     "output_type": "stream",
     "text": [
      "....................................................................................................\n",
      "----------------------------------------------------------------------\n",
      "Ran 100 tests in 0.205s\n",
      "\n",
      "OK\n"
     ]
    }
   ],
   "source": [
    "# This will test your function \n",
    "test_factorial(factorial)"
   ]
  },
  {
   "cell_type": "markdown",
   "metadata": {},
   "source": [
    "## 7. Write a function that takes a list and returns a list of the unique values.\n",
    "\n",
    "`NOTE: You cannot use set. 🤔`"
   ]
  },
  {
   "cell_type": "code",
   "execution_count": 69,
   "metadata": {},
   "outputs": [],
   "source": [
    "def our_in(value, arr):\n",
    "    \"\"\"\n",
    "    Returns true if value is present in arr\n",
    "    Args:\n",
    "        value: any object\n",
    "        arr: list of objects\n",
    "    Returns:\n",
    "        bool: whether value is an element of arr\n",
    "    \"\"\"\n",
    "    for elem in arr:\n",
    "        if value == elem:\n",
    "            return True\n",
    "        \n",
    "    return False"
   ]
  },
  {
   "cell_type": "code",
   "execution_count": 78,
   "metadata": {},
   "outputs": [],
   "source": [
    "def unique(arr, verbose=False):\n",
    "    # to store unique values\n",
    "    uniq = []\n",
    "    \n",
    "    for elem in arr:\n",
    "        if not our_in(elem, uniq):\n",
    "            if verbose:\n",
    "                print(f\"{elem} is new! We append it to uniq\")\n",
    "            uniq.append(elem)\n",
    "    \n",
    "    return uniq"
   ]
  },
  {
   "cell_type": "code",
   "execution_count": 80,
   "metadata": {},
   "outputs": [
    {
     "name": "stdout",
     "output_type": "stream",
     "text": [
      "3 is new! We append it to uniq\n",
      "4 is new! We append it to uniq\n",
      "7 is new! We append it to uniq\n",
      "11 is new! We append it to uniq\n",
      "5 is new! We append it to uniq\n",
      "9 is new! We append it to uniq\n"
     ]
    },
    {
     "data": {
      "text/plain": [
       "[3, 4, 7, 11, 5, 9]"
      ]
     },
     "execution_count": 80,
     "metadata": {},
     "output_type": "execute_result"
    }
   ],
   "source": [
    "unique([3, 4, 3, 7, 11, 3, 4, 5, 4, 9, 3, 11, 5], verbose=True)"
   ]
  },
  {
   "cell_type": "code",
   "execution_count": 81,
   "metadata": {},
   "outputs": [
    {
     "name": "stderr",
     "output_type": "stream",
     "text": [
      "....................................................................................................\n",
      "----------------------------------------------------------------------\n",
      "Ran 100 tests in 0.605s\n",
      "\n",
      "OK\n"
     ]
    }
   ],
   "source": [
    "# This will test your function \n",
    "test_unique(unique)"
   ]
  },
  {
   "cell_type": "markdown",
   "metadata": {},
   "source": [
    "## 8. Write a function that returns the mode of a list, i.e.: the element that appears the most times.\n",
    "`NOTE: You should not use count... 🧐`"
   ]
  },
  {
   "cell_type": "code",
   "execution_count": 94,
   "metadata": {},
   "outputs": [],
   "source": [
    "def mode_counter(arr):\n",
    "    # fill a dictionary with counts\n",
    "    counts = {k: 0 for k in arr}\n",
    "    \n",
    "\n",
    "    for elem in arr:\n",
    "        counts[elem] += 1\n",
    "    \n",
    "    print(counts)\n",
    "    # find the key with maximum value\n",
    "    key_winner = None\n",
    "    value_winner = 0\n",
    "    \n",
    "    for k, v in counts.items():\n",
    "        if v > value_winner:\n",
    "            key_winner = k\n",
    "            value_winner = v\n",
    "            \n",
    "    return key_winner"
   ]
  },
  {
   "cell_type": "code",
   "execution_count": 95,
   "metadata": {},
   "outputs": [
    {
     "name": "stdout",
     "output_type": "stream",
     "text": [
      "{3: 9, 4: 6, 5: 2}\n"
     ]
    },
    {
     "data": {
      "text/plain": [
       "3"
      ]
     },
     "execution_count": 95,
     "metadata": {},
     "output_type": "execute_result"
    }
   ],
   "source": [
    "mode_counter([3, 4, 5, 3, 4, 5, 3, 4, 4, 4, 4, 3, 3, 3, 3, 3, 3])"
   ]
  },
  {
   "cell_type": "code",
   "execution_count": 96,
   "metadata": {},
   "outputs": [
    {
     "name": "stderr",
     "output_type": "stream",
     "text": [
      "......................................................................................."
     ]
    },
    {
     "name": "stdout",
     "output_type": "stream",
     "text": [
      "{1: 10, 2: 3, 15: 4, 7: 4, 18: 55, 11: 2, 6: 5, 8: 3, 19: 4, 23: 5, 9: 4, 5: 3, 17: 5, 3: 6, 25: 7, 20: 4, 12: 2, 16: 3, 21: 3, 10: 4, 22: 3, 4: 3, 24: 4, 13: 2, 14: 2}\n",
      "{2: 2, 5: 7, 11: 8, 9: 1, 10: 6, 7: 7, 14: 4, 15: 2, 13: 5, 8: 6, 18: 7, 25: 3, 21: 1, 12: 4, 1: 1, 17: 6, 3: 7, 22: 55, 4: 6, 20: 2, 23: 2, 16: 4, 6: 4, 24: 2, 19: 2}\n",
      "{3: 8, 6: 5, 1: 5, 11: 4, 22: 55, 4: 4, 10: 7, 25: 2, 16: 3, 23: 7, 7: 9, 15: 10, 13: 4, 5: 3, 8: 3, 21: 5, 17: 3, 19: 3, 14: 5, 12: 3, 2: 2, 9: 6, 18: 4, 20: 2}\n",
      "{24: 6, 14: 4, 21: 5, 15: 6, 3: 5, 17: 6, 13: 6, 16: 4, 6: 5, 5: 6, 19: 2, 25: 4, 18: 3, 4: 7, 22: 3, 12: 5, 1: 1, 20: 3, 8: 2, 2: 5, 10: 6, 9: 7, 11: 55, 7: 2}\n",
      "{1: 5, 16: 5, 19: 4, 6: 5, 24: 3, 2: 6, 3: 10, 9: 4, 22: 3, 11: 5, 14: 7, 4: 6, 17: 55, 12: 5, 5: 5, 7: 8, 10: 5, 21: 3, 20: 4, 18: 7, 13: 3, 25: 4, 8: 2, 15: 2, 23: 2}\n",
      "{4: 6, 19: 5, 18: 9, 9: 4, 5: 4, 20: 3, 15: 1, 21: 6, 12: 4, 10: 57, 17: 7, 24: 6, 25: 2, 1: 6, 6: 4, 16: 5, 14: 6, 7: 3, 8: 6, 22: 4, 23: 3, 11: 4, 2: 2, 13: 4, 3: 2}\n",
      "{19: 54, 21: 4, 14: 5, 6: 4, 25: 5, 2: 6, 10: 5, 4: 6, 17: 5, 15: 5, 24: 4, 3: 5, 13: 5, 22: 3, 23: 2, 7: 3, 18: 3, 5: 3, 11: 5, 8: 4, 20: 4, 1: 5, 12: 4, 16: 2, 9: 1}\n",
      "{21: 3, 13: 4, 23: 4, 6: 4, 5: 3, 17: 5, 22: 8, 20: 3, 24: 5, 1: 8, 15: 8, 7: 5, 16: 9, 19: 4, 8: 7, 3: 5, 18: 3, 11: 2, 12: 4, 9: 5, 4: 4, 14: 4, 10: 53, 25: 1, 2: 2}\n",
      "{10: 7, 20: 6, 19: 5, 7: 2, 17: 9, 24: 13, 14: 8, 22: 6, 1: 1, 12: 5, 8: 9, 23: 5, 25: 2, 18: 5, 11: 3, 21: 7, 6: 7, 15: 4, 9: 4, 16: 54, 4: 1, 13: 3, 3: 2, 2: 4, 5: 3}\n",
      "{9: 6, 20: 8, 19: 4, 3: 8, 5: 4, 16: 7, 22: 3, 2: 3, 24: 5, 4: 5, 23: 4, 18: 5, 21: 55, 15: 5, 17: 9, 25: 6, 14: 3, 10: 7, 12: 4, 13: 3, 7: 3, 1: 3, 8: 3, 11: 4}\n",
      "{21: 11, 12: 4, 16: 3, 17: 3, 9: 6, 18: 6, 23: 6, 19: 3, 14: 3, 11: 4, 1: 6, 7: 7, 3: 5, 24: 2, 13: 6, 8: 55, 5: 2, 20: 3, 6: 3, 4: 8, 2: 4, 25: 1, 10: 1, 15: 2, 22: 2}\n",
      "{21: 4, 11: 5, 4: 5, 13: 6, 20: 2, 22: 7, 17: 5, 25: 5, 14: 4, 6: 55, 12: 5, 3: 5, 1: 3, 15: 9, 16: 6, 19: 5, 18: 6, 7: 5, 8: 4, 24: 2, 5: 3, 2: 1, 23: 4, 10: 2, 9: 3}\n",
      "{23: 5, 9: 7, 2: 9, 14: 4, 20: 4, 12: 5, 22: 6, 5: 5, 15: 4, 8: 3, 24: 4, 13: 7, 11: 5, 3: 5, 17: 52, 7: 8, 19: 2, 6: 3, 10: 5, 16: 5, 1: 4, 21: 4, 25: 2, 18: 3, 4: 2}\n",
      "{1: 1, 11: 7, 15: 6, 22: 6, 9: 5, 13: 7, 25: 9, 4: 2, 20: 6, 23: 5, 5: 5, 21: 3, 3: 8, 16: 4, 14: 3, 24: 6, 2: 4, 12: 10, 17: 6, 7: 7, 10: 56, 19: 4, 6: 2, 8: 2, 18: 1}\n",
      "{11: 10, 15: 6, 14: 5, 7: 6, 22: 10, 12: 3, 1: 5, 10: 6, 6: 6, 13: 6, 8: 5, 20: 5, 9: 2, 5: 8, 23: 4, 17: 3, 4: 3, 2: 5, 19: 6, 18: 4, 16: 3, 24: 2, 21: 2, 25: 1, 3: 50}\n",
      "{11: 4, 13: 7, 15: 6, 23: 7, 5: 3, 19: 2, 4: 3, 6: 55, 20: 7, 22: 4, 16: 6, 3: 5, 18: 6, 12: 8, 25: 2, 21: 6, 8: 2, 9: 6, 10: 7, 7: 3, 24: 6, 1: 5, 14: 5, 2: 4}\n",
      "{13: 6, 8: 5, 22: 3, 11: 8, 14: 4, 21: 7, 3: 4, 9: 2, 7: 4, 1: 7, 17: 4, 18: 6, 19: 2, 16: 6, 20: 5, 24: 56, 5: 8, 12: 4, 4: 3, 15: 4, 25: 3, 2: 4, 6: 5, 10: 4, 23: 2}\n",
      "{17: 7, 7: 7, 4: 3, 12: 4, 22: 8, 9: 3, 1: 5, 2: 5, 18: 8, 8: 5, 6: 4, 11: 3, 19: 6, 24: 4, 25: 5, 14: 52, 21: 5, 15: 5, 23: 4, 10: 3, 16: 5, 5: 5, 20: 1, 3: 5}\n",
      "{20: 3, 10: 4, 25: 4, 5: 5, 11: 6, 22: 6, 7: 51, 15: 6, 1: 3, 8: 3, 6: 4, 24: 5, 19: 2, 17: 3, 16: 4, 9: 3, 12: 5, 14: 7, 23: 6, 4: 3, 18: 6, 21: 2, 3: 2, 2: 4, 13: 8}\n",
      "{11: 2, 10: 5, 7: 3, 14: 6, 15: 1, 9: 7, 25: 6, 16: 7, 19: 5, 22: 6, 20: 2, 2: 4, 8: 7, 21: 7, 6: 53, 23: 4, 24: 4, 5: 8, 3: 5, 12: 4, 18: 4, 13: 3, 4: 4, 17: 7, 1: 3}\n",
      "{1: 3, 13: 6, 12: 6, 4: 11, 18: 6, 15: 5, 17: 5, 14: 5, 21: 5, 22: 7, 16: 4, 23: 3, 24: 6, 5: 53, 2: 7, 25: 7, 9: 3, 11: 5, 10: 2, 19: 5, 8: 3, 20: 5, 3: 2, 6: 2}\n",
      "{2: 5, 14: 6, 24: 8, 22: 54, 13: 5, 18: 6, 16: 5, 12: 7, 17: 4, 20: 4, 19: 3, 8: 3, 11: 2, 25: 6, 21: 1, 9: 7, 4: 8, 10: 3, 6: 7, 5: 5, 1: 5, 23: 6, 7: 8, 15: 4, 3: 1}\n",
      "{25: 6, 24: 4, 4: 4, 16: 9, 12: 7, 7: 4, 14: 7, 20: 4, 15: 9, 8: 3, 19: 6, 21: 1, 3: 6, 5: 5, 23: 7, 2: 7, 11: 7, 6: 4, 18: 5, 17: 2, 10: 1, 9: 1, 13: 2, 22: 52, 1: 2}\n",
      "{11: 7, 24: 2, 12: 6, 1: 2, 16: 4, 23: 8, 4: 1, 9: 7, 6: 3, 21: 7, 15: 3, 2: 58, 10: 7, 14: 8, 20: 2, 13: 3, 19: 4, 5: 4, 22: 3, 17: 4, 18: 2, 3: 2, 25: 3, 7: 5, 8: 6}\n",
      "{23: 6, 3: 6, 9: 4, 2: 3, 16: 7, 18: 4, 22: 4, 1: 5, 24: 5, 6: 2, 12: 55, 7: 6, 13: 9, 14: 4, 25: 3, 20: 7, 4: 4, 21: 4, 10: 7, 5: 6, 8: 3, 11: 2, 17: 1}\n",
      "{10: 6, 18: 57, 14: 5, 9: 4, 21: 5, 4: 4, 6: 7, 8: 4, 13: 3, 19: 5, 25: 4, 17: 2, 16: 5, 11: 2, 15: 4, 1: 5, 12: 4, 2: 3, 5: 3, 23: 5, 3: 7, 22: 5, 7: 2, 20: 4, 24: 2}\n",
      "{20: 6, 17: 4, 11: 5, 5: 6, 7: 4, 14: 5, 22: 11, 16: 4, 4: 4, 15: 4, 10: 4, 6: 1, 25: 8, 3: 5, 18: 2, 2: 2, 23: 6, 21: 7, 8: 6, 13: 6, 1: 56, 9: 4, 24: 4, 12: 2, 19: 5}\n",
      "{18: 5, 8: 5, 15: 5, 7: 10, 1: 55, 5: 4, 9: 8, 3: 3, 11: 5, 4: 5, 20: 4, 16: 2, 14: 5, 25: 6, 6: 3, 13: 2, 17: 1, 12: 3, 19: 3, 10: 7, 24: 4, 22: 1, 21: 2, 2: 1, 23: 2}\n",
      "{21: 4, 6: 3, 14: 7, 12: 6, 13: 5, 1: 6, 24: 5, 9: 8, 10: 2, 3: 9, 8: 3, 2: 7, 7: 6, 16: 3, 17: 5, 20: 4, 4: 6, 5: 5, 18: 3, 15: 2, 22: 2, 11: 51, 23: 2}\n",
      "{13: 11, 24: 4, 6: 3, 19: 2, 7: 2, 23: 2, 2: 4, 20: 5, 1: 4, 11: 5, 17: 3, 25: 53, 16: 3, 10: 4, 12: 3, 15: 5, 21: 7, 4: 4, 5: 4, 3: 3, 9: 5, 14: 4, 18: 5, 22: 2, 8: 3}\n",
      "{14: 7, 16: 2, 7: 4, 10: 4, 1: 60, 3: 3, 2: 5, 15: 6, 22: 5, 9: 4, 6: 2, 23: 5, 13: 6, 24: 3, 18: 2, 21: 7, 20: 1, 11: 3, 12: 3, 19: 6, 17: 4, 8: 2, 4: 4, 25: 4, 5: 3}\n",
      "{18: 7, 2: 7, 7: 5, 6: 6, 13: 4, 21: 6, 11: 5, 9: 5, 4: 6, 20: 4, 10: 57, 23: 5, 16: 3, 19: 4, 24: 4, 5: 4, 12: 5, 14: 4, 3: 6, 1: 3, 8: 4, 15: 6, 25: 1, 22: 1}\n",
      "{6: 3, 11: 8, 24: 4, 8: 5, 17: 4, 23: 6, 2: 7, 4: 4, 16: 4, 18: 5, 14: 5, 25: 6, 21: 4, 9: 10, 7: 2, 3: 4, 13: 4, 10: 4, 19: 3, 20: 9, 12: 54, 22: 4, 5: 4, 15: 3, 1: 3}\n",
      "{22: 3, 9: 4, 1: 5, 25: 7, 5: 5, 12: 4, 10: 6, 17: 2, 15: 4, 16: 8, 3: 6, 8: 6, 21: 4, 19: 5, 23: 6, 18: 3, 11: 55, 2: 4, 7: 3, 4: 2, 14: 2, 6: 3, 24: 5, 20: 4, 13: 3}\n",
      "{2: 5, 24: 3, 18: 5, 6: 5, 16: 7, 1: 4, 13: 4, 11: 55, 7: 4, 3: 8, 9: 6, 25: 8, 14: 4, 21: 4, 17: 2, 12: 2, 22: 9, 19: 4, 4: 3, 15: 5, 5: 5, 8: 4, 10: 2, 20: 2, 23: 2}\n",
      "{5: 7, 10: 1, 19: 2, 16: 4, 6: 10, 3: 6, 20: 5, 24: 7, 12: 4, 4: 11, 25: 2, 17: 4, 7: 4, 2: 2, 11: 3, 22: 6, 13: 3, 1: 54, 23: 1, 18: 4, 8: 5, 14: 9, 21: 5, 15: 6, 9: 3}\n",
      "{17: 6, 13: 4, 23: 4, 4: 6, 1: 8, 2: 4, 19: 8, 20: 6, 5: 9, 6: 54, 10: 3, 18: 3, 8: 6, 24: 3, 16: 5, 15: 3, 9: 5, 11: 2, 3: 4, 14: 5, 25: 4, 21: 7, 12: 5, 7: 3, 22: 2}\n",
      "{22: 7, 10: 5, 7: 3, 16: 5, 17: 4, 4: 8, 1: 4, 20: 3, 6: 2, 11: 6, 21: 2, 14: 7, 12: 58, 19: 6, 13: 2, 15: 11, 24: 6, 18: 1, 23: 4, 5: 2, 2: 5, 8: 2, 3: 1, 25: 1, 9: 1}\n",
      "{19: 9, 18: 3, 25: 3, 3: 3, 10: 3, 2: 3, 14: 10, 24: 4, 1: 4, 8: 7, 17: 5, 12: 4, 7: 7, 11: 5, 21: 3, 6: 5, 22: 4, 16: 3, 9: 5, 15: 4, 4: 4, 5: 6, 13: 5, 23: 6, 20: 53}\n",
      "{11: 3, 20: 3, 17: 3, 21: 7, 8: 5, 22: 5, 7: 3, 10: 7, 14: 2, 9: 4, 12: 5, 23: 6, 13: 7, 1: 8, 25: 3, 18: 55, 24: 1, 2: 3, 3: 5, 16: 4, 19: 2, 15: 5, 5: 1, 4: 3, 6: 2}\n",
      "{24: 6, 2: 8, 3: 6, 23: 3, 13: 2, 22: 7, 21: 10, 25: 4, 8: 53, 14: 8, 9: 5, 7: 5, 17: 4, 20: 3, 4: 5, 6: 6, 15: 7, 19: 4, 1: 4, 10: 3, 11: 4, 12: 3, 16: 2, 5: 2, 18: 1}\n",
      "{22: 4, 16: 9, 3: 5, 12: 7, 11: 4, 17: 6, 20: 2, 9: 5, 15: 4, 8: 6, 23: 10, 21: 3, 13: 1, 2: 5, 18: 4, 4: 7, 24: 52, 19: 2, 7: 7, 10: 3, 14: 4, 6: 8, 5: 2, 25: 2, 1: 2}\n",
      "{10: 10, 15: 7, 9: 6, 20: 3, 5: 5, 23: 6, 14: 5, 1: 4, 4: 6, 7: 5, 13: 5, 18: 4, 21: 7, 2: 8, 11: 2, 6: 3, 25: 6, 3: 8, 24: 9, 16: 4, 17: 52, 22: 1, 12: 4, 8: 1}\n",
      "{24: 5, 15: 4, 13: 58, 12: 4, 10: 5, 9: 4, 11: 3, 5: 4, 23: 4, 22: 3, 20: 9, 3: 1, 18: 5, 16: 4, 6: 6, 21: 9, 14: 3, 1: 3, 2: 6, 4: 5, 25: 4, 19: 2, 17: 2}\n",
      "{3: 6, 21: 3, 20: 3, 6: 6, 25: 4, 4: 7, 5: 6, 24: 6, 14: 4, 15: 2, 16: 6, 8: 5, 13: 6, 10: 6, 19: 13, 9: 4, 2: 4, 12: 4, 18: 6, 11: 5, 23: 2, 22: 6, 7: 53, 1: 5}\n",
      "{16: 8, 12: 9, 7: 5, 11: 2, 20: 7, 23: 6, 10: 7, 8: 5, 24: 3, 6: 5, 9: 5, 21: 4, 17: 1, 5: 4, 3: 3, 4: 6, 14: 3, 2: 54, 13: 4, 15: 3, 1: 5, 18: 3, 22: 2, 25: 4}\n",
      "{22: 5, 10: 4, 11: 5, 19: 4, 18: 4, 14: 58, 25: 3, 23: 4, 24: 4, 21: 7, 1: 3, 20: 3, 9: 3, 3: 6, 2: 1, 12: 2, 16: 5, 13: 3, 17: 5, 5: 5, 7: 6, 15: 6, 6: 4, 4: 1}\n",
      "{23: 9, 6: 5, 18: 7, 10: 7, 15: 4, 19: 7, 7: 4, 13: 8, 1: 5, 12: 4, 2: 2, 8: 4, 20: 6, 25: 57, 3: 1, 14: 3, 16: 8, 4: 4, 11: 4, 22: 6, 5: 2, 17: 2, 21: 3, 9: 5, 24: 2}\n",
      "{16: 6, 21: 6, 13: 8, 12: 55, 24: 2, 5: 6, 23: 4, 20: 7, 11: 3, 2: 6, 22: 5, 15: 7, 17: 7, 8: 7, 4: 3, 9: 1, 19: 1, 3: 2, 14: 6, 6: 4, 25: 5, 10: 5, 1: 7, 18: 5}\n",
      "{15: 8, 22: 3, 10: 3, 9: 4, 24: 9, 4: 4, 1: 6, 16: 2, 23: 8, 2: 5, 19: 3, 7: 5, 12: 6, 25: 8, 8: 5, 20: 3, 5: 3, 14: 54, 13: 5, 21: 2, 17: 1, 3: 8, 11: 4, 6: 2, 18: 2}\n",
      "{12: 4, 7: 6, 18: 4, 24: 4, 5: 5, 2: 5, 14: 8, 4: 6, 19: 5, 21: 5, 16: 4, 6: 3, 9: 1, 15: 5, 13: 6, 8: 6, 1: 4, 20: 6, 23: 54, 25: 7, 11: 3, 17: 3, 3: 2, 10: 4, 22: 2}\n",
      "{11: 4, 25: 2, 13: 9, 20: 8, 10: 5, 12: 6, 6: 54, 18: 4, 2: 5, 22: 7, 3: 3, 7: 7, 8: 8, 24: 2, 15: 5, 4: 6, 21: 5, 23: 3, 19: 5, 14: 2, 17: 3, 9: 4, 16: 6, 5: 2, 1: 3}\n",
      "{20: 5, 18: 8, 5: 5, 15: 4, 22: 6, 1: 5, 10: 4, 25: 2, 23: 4, 2: 7, 12: 3, 13: 7, 9: 4, 21: 4, 16: 52, 11: 3, 8: 4, 3: 5, 4: 6, 6: 4, 24: 1, 19: 7, 17: 4, 14: 2, 7: 3}\n",
      "{4: 8, 13: 4, 25: 3, 5: 3, 21: 5, 6: 13, 20: 4, 14: 5, 22: 8, 24: 6, 11: 53, 12: 2, 23: 7, 15: 5, 18: 3, 10: 5, 8: 7, 17: 2, 7: 3, 1: 2, 2: 2, 16: 2, 9: 1, 3: 1}\n",
      "{1: 6, 9: 7, 7: 7, 14: 6, 21: 5, 23: 7, 19: 7, 22: 6, 24: 9, 5: 8, 10: 53, 15: 6, 8: 9, 18: 1, 13: 4, 25: 1, 2: 3, 4: 4, 16: 5, 11: 2, 6: 1, 17: 4, 12: 1, 20: 2, 3: 2}\n",
      "{3: 8, 12: 9, 9: 5, 14: 1, 5: 4, 6: 5, 23: 3, 2: 3, 4: 57, 17: 4, 25: 4, 8: 7, 19: 4, 10: 3, 16: 6, 20: 3, 22: 5, 11: 5, 1: 3, 21: 3, 18: 4, 13: 4, 15: 2, 24: 1, 7: 1}\n",
      "{20: 5, 3: 8, 15: 4, 25: 3, 7: 4, 12: 3, 8: 1, 13: 3, 2: 9, 17: 4, 6: 4, 14: 3, 19: 9, 23: 2, 5: 3, 18: 57, 16: 5, 22: 4, 11: 2, 4: 6, 24: 3, 9: 5, 10: 3, 21: 1, 1: 2}\n",
      "{24: 57, 9: 9, 6: 4, 10: 7, 8: 6, 21: 7, 19: 6, 4: 1, 14: 9, 1: 3, 12: 4, 25: 5, 18: 11, 5: 7, 3: 5, 16: 3, 7: 7, 20: 3, 13: 6, 2: 2, 23: 3, 11: 4, 15: 4, 17: 1}\n",
      "{25: 3, 7: 6, 3: 4, 15: 4, 14: 8, 18: 5, 20: 55, 22: 4, 10: 3, 6: 3, 5: 6, 9: 4, 12: 5, 23: 6, 24: 4, 11: 3, 21: 7, 17: 2, 19: 5, 2: 5, 8: 5, 13: 2, 1: 1, 4: 2, 16: 1}\n",
      "{24: 3, 6: 7, 25: 4, 16: 6, 22: 2, 13: 6, 3: 4, 5: 5, 8: 5, 1: 8, 23: 8, 18: 5, 12: 6, 9: 3, 20: 7, 15: 3, 2: 56, 7: 6, 14: 3, 21: 4, 4: 5, 11: 2, 10: 6, 19: 3, 17: 1}\n",
      "{3: 7, 9: 6, 12: 5, 11: 3, 22: 5, 5: 6, 2: 3, 21: 7, 14: 7, 10: 9, 4: 4, 13: 4, 24: 4, 20: 55, 8: 1, 15: 3, 23: 2, 7: 5, 25: 3, 19: 5, 1: 7, 6: 6, 17: 3, 18: 5, 16: 1}\n",
      "{17: 6, 9: 9, 16: 8, 24: 7, 23: 4, 11: 5, 2: 3, 15: 6, 22: 4, 8: 3, 14: 7, 18: 5, 21: 5, 4: 2, 3: 6, 10: 3, 20: 9, 6: 5, 5: 56, 25: 5, 7: 2, 1: 2, 12: 3, 13: 5, 19: 2}\n",
      "{10: 6, 19: 5, 6: 4, 1: 7, 18: 5, 12: 5, 15: 7, 11: 6, 9: 7, 17: 4, 5: 3, 2: 5, 16: 2, 8: 2, 13: 2, 22: 5, 4: 4, 21: 5, 3: 3, 14: 4, 24: 3, 23: 3, 20: 53}\n",
      "{8: 6, 23: 56, 21: 4, 5: 6, 19: 5, 12: 3, 14: 5, 16: 5, 11: 3, 1: 9, 4: 5, 9: 8, 15: 8, 24: 5, 25: 2, 3: 6, 18: 3, 2: 5, 13: 5, 6: 4, 17: 4, 7: 7, 22: 2, 10: 5, 20: 4}\n",
      "{5: 5, 24: 4, 2: 7, 19: 6, 14: 5, 6: 2, 22: 4, 10: 6, 21: 5, 25: 3, 12: 7, 13: 10, 1: 3, 3: 3, 11: 3, 7: 5, 18: 9, 15: 3, 9: 10, 16: 6, 20: 52, 4: 2, 23: 2, 17: 1, 8: 1}\n",
      "{6: 6, 23: 8, 22: 4, 15: 6, 8: 6, 4: 5, 19: 6, 12: 52, 2: 6, 1: 5, 14: 3, 10: 6, 17: 3, 3: 3, 20: 5, 16: 5, 24: 4, 21: 3, 18: 5, 11: 2, 5: 7, 9: 5, 13: 2, 7: 4, 25: 2}\n",
      "{13: 6, 10: 6, 25: 61, 5: 3, 17: 4, 6: 2, 2: 4, 22: 7, 11: 7, 24: 2, 14: 7, 19: 7, 23: 6, 21: 3, 16: 4, 18: 4, 12: 5, 4: 5, 3: 7, 20: 4, 8: 6, 1: 3, 7: 1, 15: 2, 9: 2}\n",
      "{10: 8, 20: 7, 3: 4, 1: 2, 4: 53, 8: 7, 25: 10, 2: 2, 6: 5, 18: 4, 13: 7, 23: 4, 19: 3, 24: 5, 11: 6, 14: 5, 17: 4, 5: 9, 15: 3, 21: 7, 9: 3, 22: 4, 16: 2, 12: 1}\n",
      "{18: 57, 5: 4, 22: 9, 16: 4, 24: 6, 12: 2, 23: 5, 15: 5, 25: 2, 2: 4, 20: 6, 7: 9, 9: 7, 8: 4, 17: 6, 14: 3, 21: 4, 11: 1, 1: 4, 6: 4, 13: 6, 19: 3, 10: 1, 4: 2, 3: 1}\n",
      "{15: 5, 10: 5, 13: 8, 21: 1, 12: 7, 24: 4, 20: 5, 7: 59, 18: 5, 2: 5, 25: 5, 1: 5, 19: 6, 8: 3, 6: 6, 22: 3, 14: 6, 11: 3, 9: 3, 16: 1, 17: 5, 5: 1, 4: 6, 23: 6, 3: 2}\n",
      "{23: 12, 19: 7, 20: 5, 22: 5, 25: 3, 12: 56, 4: 8, 10: 3, 18: 4, 1: 4, 14: 4, 9: 9, 6: 6, 16: 4, 15: 6, 8: 7, 11: 4, 5: 4, 17: 3, 13: 7, 21: 4, 7: 4, 3: 1, 2: 4, 24: 1}\n",
      "{19: 6, 13: 8, 12: 3, 24: 3, 16: 56, 2: 6, 11: 4, 21: 4, 18: 4, 7: 7, 6: 6, 15: 6, 3: 2, 22: 3, 25: 7, 9: 5, 1: 2, 4: 5, 5: 3, 8: 6, 10: 7, 17: 4, 23: 4, 14: 3, 20: 2}\n",
      "{17: 6, 21: 9, 11: 8, 24: 6, 4: 4, 1: 5, 9: 10, 13: 6, 23: 4, 7: 3, 20: 5, 18: 3, 10: 5, 25: 2, 22: 55, 6: 3, 5: 6, 14: 4, 15: 4, 12: 3, 2: 5, 19: 5, 16: 4, 3: 4, 8: 5}\n",
      "{1: 5, 25: 4, 9: 3, 16: 7, 21: 5, 14: 6, 24: 3, 17: 4, 6: 3, 2: 4, 22: 3, 5: 8, 19: 1, 13: 6, 23: 4, 8: 7, 4: 3, 7: 7, 15: 2, 10: 4, 20: 3, 11: 5, 12: 1, 18: 54}\n",
      "{21: 7, 2: 4, 10: 3, 19: 6, 12: 3, 5: 10, 8: 5, 22: 4, 20: 5, 4: 3, 23: 2, 18: 5, 3: 7, 17: 54, 6: 1, 13: 2, 25: 7, 16: 3, 7: 3, 14: 3, 9: 5, 24: 3, 11: 5, 15: 3, 1: 3}\n",
      "{22: 6, 11: 10, 17: 7, 12: 5, 1: 5, 7: 5, 10: 6, 3: 3, 2: 2, 19: 9, 4: 3, 25: 10, 15: 4, 9: 3, 23: 4, 14: 4, 18: 2, 21: 57, 6: 5, 20: 3, 13: 3, 8: 4, 5: 4}\n",
      "{6: 5, 24: 4, 8: 8, 18: 5, 20: 7, 19: 5, 2: 3, 23: 5, 11: 54, 12: 6, 9: 4, 22: 2, 16: 3, 7: 4, 13: 8, 21: 5, 1: 2, 4: 4, 3: 6, 25: 3, 5: 4, 10: 2, 17: 6, 15: 3}\n",
      "{3: 6, 9: 9, 14: 4, 7: 6, 20: 10, 5: 5, 23: 4, 16: 51, 15: 5, 18: 8, 12: 3, 8: 6, 1: 4, 13: 1, 25: 4, 6: 5, 24: 4, 17: 1, 11: 3, 4: 2, 2: 4, 19: 5, 21: 2, 22: 1}\n",
      "{5: 7, 1: 2, 3: 3, 12: 5, 25: 3, 21: 6, 4: 5, 16: 5, 15: 5, 14: 3, 7: 6, 18: 5, 19: 4, 10: 9, 13: 9, 8: 3, 9: 1, 11: 7, 20: 6, 24: 2, 22: 4, 6: 6, 17: 2, 23: 51}\n",
      "{14: 5, 19: 6, 11: 4, 2: 2, 9: 8, 1: 4, 6: 4, 18: 3, 20: 55, 22: 8, 15: 3, 8: 8, 13: 6, 17: 3, 3: 6, 10: 6, 24: 4, 4: 2, 16: 5, 7: 5, 5: 4, 23: 2, 12: 5, 25: 1, 21: 2}\n",
      "{20: 2, 25: 3, 17: 6, 7: 7, 12: 7, 9: 4, 14: 4, 24: 8, 18: 6, 6: 6, 1: 5, 22: 5, 4: 5, 13: 5, 15: 3, 23: 8, 21: 6, 10: 3, 16: 2, 2: 1, 19: 53, 8: 3, 5: 3, 3: 3}\n",
      "{21: 7, 7: 4, 22: 10, 6: 5, 14: 7, 3: 3, 17: 3, 1: 3, 25: 6, 18: 56, 10: 4, 24: 5, 16: 3, 15: 3, 23: 4, 11: 2, 13: 4, 20: 2, 19: 4, 12: 2, 5: 6, 9: 5, 8: 5, 4: 3, 2: 2}\n",
      "{13: 4, 3: 9, 15: 3, 17: 6, 10: 5, 25: 10, 16: 6, 14: 4, 11: 3, 6: 5, 21: 2, 5: 54, 1: 6, 24: 6, 19: 3, 7: 3, 22: 3, 8: 3, 2: 7, 9: 4, 18: 2, 23: 2, 12: 1, 4: 2}\n",
      "{6: 3, 2: 7, 20: 5, 21: 6, 23: 8, 18: 5, 25: 2, 11: 56, 16: 2, 8: 9, 7: 4, 14: 5, 22: 3, 19: 1, 17: 8, 24: 9, 5: 8, 1: 3, 4: 8, 13: 3, 3: 5, 9: 4, 12: 4, 10: 1}\n",
      "{17: 6, 20: 4, 18: 4, 16: 9, 7: 4, 13: 4, 21: 3, 14: 4, 3: 4, 24: 3, 12: 4, 15: 4, 5: 5, 25: 55, 2: 3, 8: 1, 11: 3, 22: 4, 1: 3, 4: 7, 9: 3, 6: 6, 19: 4, 23: 3, 10: 6}\n",
      "{14: 9, 3: 9, 18: 8, 4: 4, 22: 3, 24: 7, 2: 2, 15: 5, 7: 4, 10: 6, 8: 4, 20: 6, 12: 5, 9: 4, 6: 5, 21: 54, 23: 4, 25: 5, 19: 6, 1: 6, 5: 2, 16: 7, 17: 1, 13: 1}\n",
      "{11: 9, 7: 8, 14: 5, 18: 9, 17: 55, 25: 5, 22: 8, 12: 7, 13: 5, 6: 6, 23: 3, 4: 5, 5: 5, 1: 6, 20: 2, 8: 7, 16: 3, 24: 6, 3: 4, 21: 3, 15: 2, 9: 3, 19: 2, 10: 2, 2: 5}\n"
     ]
    },
    {
     "name": "stderr",
     "output_type": "stream",
     "text": [
      "............."
     ]
    },
    {
     "name": "stdout",
     "output_type": "stream",
     "text": [
      "{9: 4, 6: 3, 5: 7, 4: 4, 14: 2, 21: 10, 7: 6, 23: 6, 17: 8, 10: 4, 8: 8, 1: 7, 22: 8, 19: 4, 25: 5, 16: 4, 15: 4, 20: 3, 11: 3, 24: 4, 13: 6, 2: 3, 12: 3, 18: 3, 3: 51}\n",
      "{8: 8, 18: 8, 14: 4, 20: 3, 21: 4, 10: 7, 25: 10, 16: 6, 17: 4, 5: 4, 24: 4, 11: 5, 7: 4, 2: 4, 9: 4, 22: 5, 3: 2, 12: 3, 4: 4, 13: 54, 19: 6, 23: 4, 15: 2, 6: 1, 1: 1}\n",
      "{4: 6, 3: 8, 23: 3, 9: 7, 12: 7, 25: 5, 6: 2, 11: 4, 19: 2, 1: 5, 15: 4, 2: 7, 22: 6, 8: 5, 24: 4, 10: 5, 17: 2, 21: 5, 18: 6, 13: 1, 16: 2, 14: 57, 20: 1, 5: 3, 7: 2}\n",
      "{6: 4, 18: 4, 9: 12, 12: 4, 14: 3, 2: 4, 10: 3, 13: 2, 5: 55, 16: 5, 11: 6, 7: 5, 1: 5, 21: 2, 15: 4, 23: 7, 8: 2, 3: 6, 20: 3, 24: 6, 22: 6, 4: 3, 25: 1, 19: 1}\n",
      "{25: 6, 9: 7, 15: 4, 19: 5, 8: 5, 16: 2, 4: 6, 2: 4, 11: 4, 5: 4, 10: 6, 18: 52, 14: 2, 12: 6, 23: 3, 13: 6, 6: 3, 20: 4, 21: 4, 17: 3, 7: 2, 22: 5, 24: 5, 3: 3, 1: 4}\n",
      "{1: 9, 16: 6, 23: 5, 6: 6, 18: 2, 3: 54, 24: 5, 22: 6, 17: 7, 20: 7, 12: 7, 21: 3, 9: 6, 11: 3, 15: 6, 5: 2, 19: 3, 13: 8, 7: 3, 8: 4, 2: 4, 25: 2, 14: 3, 4: 1, 10: 2}\n",
      "{20: 4, 9: 6, 19: 52, 17: 5, 2: 9, 3: 6, 25: 5, 12: 5, 4: 6, 6: 4, 15: 3, 8: 3, 22: 4, 23: 6, 11: 7, 13: 3, 5: 5, 21: 6, 7: 4, 1: 2, 14: 4, 16: 3, 10: 8, 18: 4, 24: 2}\n",
      "{12: 4, 20: 5, 24: 6, 23: 6, 1: 3, 18: 17, 15: 3, 7: 7, 10: 6, 9: 4, 25: 3, 14: 5, 11: 4, 13: 6, 16: 5, 3: 5, 5: 4, 8: 2, 2: 3, 17: 6, 19: 6, 6: 54, 22: 2, 21: 5, 4: 1}\n",
      "{25: 4, 19: 4, 5: 6, 15: 9, 18: 5, 7: 6, 9: 2, 12: 3, 10: 6, 8: 3, 3: 3, 22: 2, 2: 5, 13: 4, 1: 4, 4: 4, 24: 3, 21: 2, 23: 3, 16: 4, 11: 4, 14: 2, 17: 3, 6: 6, 20: 54}\n",
      "{23: 8, 18: 3, 24: 6, 20: 8, 12: 4, 15: 3, 14: 4, 19: 2, 8: 10, 22: 4, 6: 5, 4: 6, 7: 5, 10: 3, 5: 6, 1: 2, 3: 4, 25: 5, 17: 6, 9: 2, 21: 4, 13: 2, 11: 54, 2: 2, 16: 2}\n",
      "{15: 5, 20: 3, 14: 6, 17: 54, 16: 1, 10: 4, 5: 2, 22: 5, 13: 7, 12: 7, 1: 7, 24: 8, 7: 2, 19: 4, 6: 6, 25: 6, 4: 3, 3: 2, 23: 6, 11: 7, 9: 5, 8: 5, 21: 5, 18: 7}\n",
      "{15: 3, 10: 4, 12: 6, 23: 2, 14: 5, 11: 5, 2: 5, 21: 5, 9: 6, 20: 4, 16: 3, 8: 8, 13: 5, 1: 8, 19: 5, 4: 56, 17: 5, 24: 7, 18: 5, 7: 3, 3: 3, 22: 2, 25: 4, 5: 1}\n",
      "{12: 4, 7: 6, 6: 6, 25: 9, 15: 5, 4: 4, 8: 3, 1: 7, 11: 4, 5: 3, 3: 8, 13: 6, 16: 4, 19: 7, 22: 5, 2: 5, 18: 2, 21: 2, 24: 6, 14: 2, 17: 56, 10: 3, 9: 1, 20: 2}\n"
     ]
    },
    {
     "name": "stderr",
     "output_type": "stream",
     "text": [
      "\n",
      "----------------------------------------------------------------------\n",
      "Ran 100 tests in 0.238s\n",
      "\n",
      "OK\n"
     ]
    }
   ],
   "source": [
    "# This will test your function \n",
    "test_mode(mode_counter)"
   ]
  },
  {
   "cell_type": "markdown",
   "metadata": {},
   "source": [
    "## 9. Write a function that calculates the standard deviation of a list.\n",
    "`NOTE: Do not use any libraries or already built functions. 😉`"
   ]
  },
  {
   "cell_type": "code",
   "execution_count": 97,
   "metadata": {},
   "outputs": [],
   "source": [
    "from statistics import stdev\n",
    "\n",
    "def st_dev(arr):\n",
    "    # first, we get the mean\n",
    "    suma = 0\n",
    "    counter = 0\n",
    "    \n",
    "    for number in arr:\n",
    "        suma += number\n",
    "        counter += 1\n",
    "    \n",
    "    mean = suma / counter\n",
    "    \n",
    "    suma_var = 0\n",
    "    variance = 0\n",
    "    \n",
    "    for number in arr:\n",
    "        suma_var += (number - mean) ** 2\n",
    "    \n",
    "    variance = suma_var / (counter - 1)\n",
    "    \n",
    "    # LA RESPUESTA CORRECTA NO SERÍA CON EL (n) EN VEZ DEL (n-1) YA NO NOS DIJERON QUE ES UNA MUESTRA, ENTONCES SERÍA UNA POBLACIÓN TOTAL\n",
    "    \n",
    "    dev = variance ** 0.5\n",
    "    \n",
    "    return dev "
   ]
  },
  {
   "cell_type": "code",
   "execution_count": 98,
   "metadata": {},
   "outputs": [
    {
     "name": "stderr",
     "output_type": "stream",
     "text": [
      "....................................................................................................\n",
      "----------------------------------------------------------------------\n",
      "Ran 100 tests in 0.259s\n",
      "\n",
      "OK\n"
     ]
    }
   ],
   "source": [
    "# This will test your function \n",
    "test_stdev(st_dev)"
   ]
  },
  {
   "cell_type": "markdown",
   "metadata": {},
   "source": [
    "## 10. Write a function to check if a string is a pangram, i.e.: if it contains all the letters of the alphabet at least once. Mind that the strings may contain characters that are not letters."
   ]
  },
  {
   "cell_type": "code",
   "execution_count": 99,
   "metadata": {},
   "outputs": [],
   "source": [
    "abecedario = \"qwertyuioplkjhgfdsazxcvbnm\""
   ]
  },
  {
   "cell_type": "code",
   "execution_count": null,
   "metadata": {},
   "outputs": [],
   "source": [
    "\"hola me llamo juanQ\""
   ]
  },
  {
   "cell_type": "code",
   "execution_count": 102,
   "metadata": {},
   "outputs": [],
   "source": [
    "def pangram(string):\n",
    "    for letter in abecedario:\n",
    "        if letter not in string.lower():\n",
    "            return False\n",
    "   \n",
    "    return True"
   ]
  },
  {
   "cell_type": "code",
   "execution_count": 138,
   "metadata": {},
   "outputs": [
    {
     "name": "stderr",
     "output_type": "stream",
     "text": [
      "..............................\n",
      "----------------------------------------------------------------------\n",
      "Ran 30 tests in 0.037s\n",
      "\n",
      "OK\n"
     ]
    }
   ],
   "source": [
    "# This will test your function \n",
    "test_pangram(pangram)"
   ]
  },
  {
   "cell_type": "markdown",
   "metadata": {},
   "source": [
    "## 11. Write a function that receives a string of comma separated words and returns a string of comma separated words sorted alphabetically.\n",
    "\n",
    "`NOTE: You may use sorted but not split and definitely no join! 🤪`"
   ]
  },
  {
   "cell_type": "code",
   "execution_count": 152,
   "metadata": {},
   "outputs": [],
   "source": [
    "frase.split??"
   ]
  },
  {
   "cell_type": "code",
   "execution_count": 153,
   "metadata": {},
   "outputs": [],
   "source": [
    "def sort_alpha(string):\n",
    "    index = 0\n",
    "    first_list = [\"\"]\n",
    "    \n",
    "    for l in string:\n",
    "        if l == \",\":\n",
    "            index += 1\n",
    "            first_list.append(\"\")\n",
    "        else:\n",
    "            first_list[index] += l\n",
    "            \n",
    "    final_list = sorted(first_list)\n",
    "    \n",
    "    final_string = \"\"\n",
    "    \n",
    "    for word in final_list:\n",
    "        final_string += word\n",
    "        if word != final_list[-1]:\n",
    "            final_string += \",\"\n",
    "\n",
    "    return final_string"
   ]
  },
  {
   "cell_type": "code",
   "execution_count": 150,
   "metadata": {},
   "outputs": [],
   "source": [
    "# using split\n",
    "def sort_alpha(string):\n",
    "    words = string.split(\",\")\n",
    "    \n",
    "    words = sorted(words)\n",
    "    \n",
    "    return \",\".join(words)"
   ]
  },
  {
   "cell_type": "code",
   "execution_count": 154,
   "metadata": {},
   "outputs": [
    {
     "name": "stderr",
     "output_type": "stream",
     "text": [
      "....................................................................................................\n",
      "----------------------------------------------------------------------\n",
      "Ran 100 tests in 0.265s\n",
      "\n",
      "OK\n"
     ]
    }
   ],
   "source": [
    "# This will test your function \n",
    "test_alpha(sort_alpha)"
   ]
  },
  {
   "cell_type": "markdown",
   "metadata": {},
   "source": [
    "## 12. Write a function to check if a given password is strong (at least 8 characters, at least one lower case, at least one upper case, at least one number and at least one special character). It should output True if strong and False if not.\n",
    "`Valid special characters: # @ ! $ % & ( ) ^ * [ ] { }`"
   ]
  },
  {
   "cell_type": "code",
   "execution_count": 172,
   "metadata": {},
   "outputs": [],
   "source": [
    "def is_long(string):\n",
    "    return len(string) >=8"
   ]
  },
  {
   "cell_type": "code",
   "execution_count": 173,
   "metadata": {},
   "outputs": [],
   "source": [
    "def has_lower(string):\n",
    "    return string != string.upper()"
   ]
  },
  {
   "cell_type": "code",
   "execution_count": 174,
   "metadata": {},
   "outputs": [],
   "source": [
    "def has_upper(string):\n",
    "    return string != string.lower()"
   ]
  },
  {
   "cell_type": "code",
   "execution_count": 175,
   "metadata": {},
   "outputs": [],
   "source": [
    "def has_number(string):\n",
    "    for i in range(10):\n",
    "        if str(i) in string:\n",
    "            return True\n",
    "    \n",
    "    return False"
   ]
  },
  {
   "cell_type": "code",
   "execution_count": 176,
   "metadata": {},
   "outputs": [],
   "source": [
    "def has_char(string):\n",
    "    chars_str = \"# @ ! $ % & ( ) ^ * [ ] { }\"\n",
    "    chars = chars_str.split()\n",
    "    \n",
    "    for c in chars:\n",
    "        if c in string:\n",
    "            return True\n",
    "    \n",
    "    return False"
   ]
  },
  {
   "cell_type": "code",
   "execution_count": 184,
   "metadata": {},
   "outputs": [],
   "source": [
    "def check_pass(string):\n",
    "    return (\n",
    "        is_long(string) and\n",
    "        has_lower(string) and\n",
    "        has_upper(string) and\n",
    "        has_number(string) and\n",
    "        has_char(string)\n",
    "    )"
   ]
  },
  {
   "cell_type": "code",
   "execution_count": 185,
   "metadata": {},
   "outputs": [
    {
     "data": {
      "text/plain": [
       "True"
      ]
     },
     "execution_count": 185,
     "metadata": {},
     "output_type": "execute_result"
    }
   ],
   "source": [
    "check_pass(\"holahola4%A\")"
   ]
  },
  {
   "cell_type": "code",
   "execution_count": 186,
   "metadata": {},
   "outputs": [
    {
     "name": "stderr",
     "output_type": "stream",
     "text": [
      "....................................................................................................\n",
      "----------------------------------------------------------------------\n",
      "Ran 100 tests in 0.201s\n",
      "\n",
      "OK\n"
     ]
    }
   ],
   "source": [
    "# This will test your function \n",
    "test_pass(check_pass)"
   ]
  }
 ],
 "metadata": {
  "kernelspec": {
   "display_name": "Python 3",
   "language": "python",
   "name": "python3"
  },
  "language_info": {
   "codemirror_mode": {
    "name": "ipython",
    "version": 3
   },
   "file_extension": ".py",
   "mimetype": "text/x-python",
   "name": "python",
   "nbconvert_exporter": "python",
   "pygments_lexer": "ipython3",
   "version": "3.7.6"
  },
  "toc": {
   "base_numbering": 1,
   "nav_menu": {},
   "number_sections": false,
   "sideBar": true,
   "skip_h1_title": false,
   "title_cell": "Table of Contents",
   "title_sidebar": "Contents",
   "toc_cell": false,
   "toc_position": {},
   "toc_section_display": true,
   "toc_window_display": true
  },
  "varInspector": {
   "cols": {
    "lenName": 16,
    "lenType": 16,
    "lenVar": 40
   },
   "kernels_config": {
    "python": {
     "delete_cmd_postfix": "",
     "delete_cmd_prefix": "del ",
     "library": "var_list.py",
     "varRefreshCmd": "print(var_dic_list())"
    },
    "r": {
     "delete_cmd_postfix": ") ",
     "delete_cmd_prefix": "rm(",
     "library": "var_list.r",
     "varRefreshCmd": "cat(var_dic_list()) "
    }
   },
   "types_to_exclude": [
    "module",
    "function",
    "builtin_function_or_method",
    "instance",
    "_Feature"
   ],
   "window_display": false
  }
 },
 "nbformat": 4,
 "nbformat_minor": 4
}
